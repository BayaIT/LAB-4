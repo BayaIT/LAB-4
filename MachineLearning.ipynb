{
 "cells": [
  {
   "cell_type": "code",
   "execution_count": 1,
   "id": "initial_id",
   "metadata": {
    "collapsed": true,
    "ExecuteTime": {
     "end_time": "2024-12-10T03:49:37.869691Z",
     "start_time": "2024-12-10T03:49:34.396982Z"
    }
   },
   "outputs": [
    {
     "name": "stdout",
     "output_type": "stream",
     "text": [
      "--2024-12-10 09:49:34--  https://docs.google.com/uc?export=download&id=1VPkoWfiIvZl4HGp49BUaVEEblVIGYh91\r\n",
      "Resolving docs.google.com (docs.google.com)... 142.250.186.46\r\n",
      "Connecting to docs.google.com (docs.google.com)|142.250.186.46|:443... connected.\r\n",
      "HTTP request sent, awaiting response... 303 See Other\r\n",
      "Location: https://drive.usercontent.google.com/download?id=1VPkoWfiIvZl4HGp49BUaVEEblVIGYh91&export=download [following]\r\n",
      "--2024-12-10 09:49:35--  https://drive.usercontent.google.com/download?id=1VPkoWfiIvZl4HGp49BUaVEEblVIGYh91&export=download\r\n",
      "Resolving drive.usercontent.google.com (drive.usercontent.google.com)... 142.250.184.193\r\n",
      "Connecting to drive.usercontent.google.com (drive.usercontent.google.com)|142.250.184.193|:443... connected.\r\n",
      "HTTP request sent, awaiting response... 200 OK\r\n",
      "Length: 11328 (11K) [application/octet-stream]\r\n",
      "Saving to: ‘heart.csv’\r\n",
      "\r\n",
      "heart.csv           100%[===================>]  11.06K  --.-KB/s    in 0.02s   \r\n",
      "\r\n",
      "2024-12-10 09:49:37 (447 KB/s) - ‘heart.csv’ saved [11328/11328]\r\n",
      "\r\n"
     ]
    }
   ],
   "source": [
    "!wget --no-check-certificate 'https://docs.google.com/uc?export=download&id=1VPkoWfiIvZl4HGp49BUaVEEblVIGYh91' -O heart.csv"
   ]
  },
  {
   "cell_type": "code",
   "outputs": [
    {
     "name": "stdout",
     "output_type": "stream",
     "text": [
      "Requirement already satisfied: numpy in ./.venv/lib/python3.12/site-packages (2.2.0)\r\n",
      "Collecting pandas\r\n",
      "  Using cached pandas-2.2.3-cp312-cp312-macosx_11_0_arm64.whl.metadata (89 kB)\r\n",
      "Requirement already satisfied: numpy>=1.26.0 in ./.venv/lib/python3.12/site-packages (from pandas) (2.2.0)\r\n",
      "Requirement already satisfied: python-dateutil>=2.8.2 in ./.venv/lib/python3.12/site-packages (from pandas) (2.9.0.post0)\r\n",
      "Collecting pytz>=2020.1 (from pandas)\r\n",
      "  Using cached pytz-2024.2-py2.py3-none-any.whl.metadata (22 kB)\r\n",
      "Collecting tzdata>=2022.7 (from pandas)\r\n",
      "  Using cached tzdata-2024.2-py2.py3-none-any.whl.metadata (1.4 kB)\r\n",
      "Requirement already satisfied: six>=1.5 in ./.venv/lib/python3.12/site-packages (from python-dateutil>=2.8.2->pandas) (1.17.0)\r\n",
      "Using cached pandas-2.2.3-cp312-cp312-macosx_11_0_arm64.whl (11.4 MB)\r\n",
      "Using cached pytz-2024.2-py2.py3-none-any.whl (508 kB)\r\n",
      "Using cached tzdata-2024.2-py2.py3-none-any.whl (346 kB)\r\n",
      "Installing collected packages: pytz, tzdata, pandas\r\n",
      "Successfully installed pandas-2.2.3 pytz-2024.2 tzdata-2024.2\r\n",
      "Collecting matplotlib\r\n",
      "  Downloading matplotlib-3.9.3-cp312-cp312-macosx_11_0_arm64.whl.metadata (11 kB)\r\n",
      "Collecting contourpy>=1.0.1 (from matplotlib)\r\n",
      "  Downloading contourpy-1.3.1-cp312-cp312-macosx_11_0_arm64.whl.metadata (5.4 kB)\r\n",
      "Collecting cycler>=0.10 (from matplotlib)\r\n",
      "  Using cached cycler-0.12.1-py3-none-any.whl.metadata (3.8 kB)\r\n",
      "Collecting fonttools>=4.22.0 (from matplotlib)\r\n",
      "  Downloading fonttools-4.55.2-cp312-cp312-macosx_10_13_universal2.whl.metadata (164 kB)\r\n",
      "Collecting kiwisolver>=1.3.1 (from matplotlib)\r\n",
      "  Using cached kiwisolver-1.4.7-cp312-cp312-macosx_11_0_arm64.whl.metadata (6.3 kB)\r\n",
      "Requirement already satisfied: numpy>=1.23 in ./.venv/lib/python3.12/site-packages (from matplotlib) (2.2.0)\r\n",
      "Requirement already satisfied: packaging>=20.0 in ./.venv/lib/python3.12/site-packages (from matplotlib) (24.2)\r\n",
      "Collecting pillow>=8 (from matplotlib)\r\n",
      "  Using cached pillow-11.0.0-cp312-cp312-macosx_11_0_arm64.whl.metadata (9.1 kB)\r\n",
      "Collecting pyparsing>=2.3.1 (from matplotlib)\r\n",
      "  Using cached pyparsing-3.2.0-py3-none-any.whl.metadata (5.0 kB)\r\n",
      "Requirement already satisfied: python-dateutil>=2.7 in ./.venv/lib/python3.12/site-packages (from matplotlib) (2.9.0.post0)\r\n",
      "Requirement already satisfied: six>=1.5 in ./.venv/lib/python3.12/site-packages (from python-dateutil>=2.7->matplotlib) (1.17.0)\r\n",
      "Downloading matplotlib-3.9.3-cp312-cp312-macosx_11_0_arm64.whl (7.8 MB)\r\n",
      "\u001B[2K   \u001B[90m━━━━━━━━━━━━━━━━━━━━━━━━━━━━━━━━━━━━━━━━\u001B[0m \u001B[32m7.8/7.8 MB\u001B[0m \u001B[31m7.2 MB/s\u001B[0m eta \u001B[36m0:00:00\u001B[0ma \u001B[36m0:00:01\u001B[0m\r\n",
      "\u001B[?25hDownloading contourpy-1.3.1-cp312-cp312-macosx_11_0_arm64.whl (255 kB)\r\n",
      "Using cached cycler-0.12.1-py3-none-any.whl (8.3 kB)\r\n",
      "Downloading fonttools-4.55.2-cp312-cp312-macosx_10_13_universal2.whl (2.8 MB)\r\n",
      "\u001B[2K   \u001B[90m━━━━━━━━━━━━━━━━━━━━━━━━━━━━━━━━━━━━━━━━\u001B[0m \u001B[32m2.8/2.8 MB\u001B[0m \u001B[31m7.6 MB/s\u001B[0m eta \u001B[36m0:00:00\u001B[0ma \u001B[36m0:00:01\u001B[0m\r\n",
      "\u001B[?25hUsing cached kiwisolver-1.4.7-cp312-cp312-macosx_11_0_arm64.whl (63 kB)\r\n",
      "Using cached pillow-11.0.0-cp312-cp312-macosx_11_0_arm64.whl (3.0 MB)\r\n",
      "Using cached pyparsing-3.2.0-py3-none-any.whl (106 kB)\r\n",
      "Installing collected packages: pyparsing, pillow, kiwisolver, fonttools, cycler, contourpy, matplotlib\r\n",
      "Successfully installed contourpy-1.3.1 cycler-0.12.1 fonttools-4.55.2 kiwisolver-1.4.7 matplotlib-3.9.3 pillow-11.0.0 pyparsing-3.2.0\r\n"
     ]
    }
   ],
   "source": [
    "!pip install numpy\n",
    "!pip install pandas\n",
    "!pip install matplotlib"
   ],
   "metadata": {
    "collapsed": false,
    "ExecuteTime": {
     "end_time": "2024-12-10T04:04:44.601417Z",
     "start_time": "2024-12-10T04:04:34.005861Z"
    }
   },
   "id": "4e7be7f399fa0c33",
   "execution_count": 16
  },
  {
   "cell_type": "code",
   "outputs": [
    {
     "name": "stdout",
     "output_type": "stream",
     "text": [
      "Requirement already satisfied: pip in ./.venv/lib/python3.12/site-packages (24.3.1)\r\n",
      "Requirement already satisfied: setuptools in ./.venv/lib/python3.12/site-packages (75.6.0)\r\n",
      "Collecting wheel\r\n",
      "  Downloading wheel-0.45.1-py3-none-any.whl.metadata (2.3 kB)\r\n",
      "Downloading wheel-0.45.1-py3-none-any.whl (72 kB)\r\n",
      "Installing collected packages: wheel\r\n",
      "Successfully installed wheel-0.45.1\r\n"
     ]
    }
   ],
   "source": [
    "!pip install --upgrade pip setuptools wheel"
   ],
   "metadata": {
    "collapsed": false,
    "ExecuteTime": {
     "end_time": "2024-12-10T03:54:24.014767Z",
     "start_time": "2024-12-10T03:54:15.867044Z"
    }
   },
   "id": "57c6bc1534fa3ee7",
   "execution_count": 10
  },
  {
   "cell_type": "code",
   "outputs": [
    {
     "name": "stdout",
     "output_type": "stream",
     "text": [
      "Collecting scikit-learn==0.22.1\r\n",
      "  Using cached scikit-learn-0.22.1.tar.gz (6.9 MB)\r\n",
      "  Preparing metadata (setup.py) ... \u001B[?25ldone\r\n",
      "\u001B[?25hRequirement already satisfied: numpy>=1.11.0 in ./.venv/lib/python3.12/site-packages (from scikit-learn==0.22.1) (2.2.0)\r\n",
      "Collecting scipy>=0.17.0 (from scikit-learn==0.22.1)\r\n",
      "  Using cached scipy-1.14.1-cp312-cp312-macosx_14_0_arm64.whl.metadata (60 kB)\r\n",
      "Collecting joblib>=0.11 (from scikit-learn==0.22.1)\r\n",
      "  Using cached joblib-1.4.2-py3-none-any.whl.metadata (5.4 kB)\r\n",
      "Using cached joblib-1.4.2-py3-none-any.whl (301 kB)\r\n",
      "Using cached scipy-1.14.1-cp312-cp312-macosx_14_0_arm64.whl (23.1 MB)\r\n",
      "Building wheels for collected packages: scikit-learn\r\n",
      "  Building wheel for scikit-learn (setup.py) ... \u001B[?25lerror\r\n",
      "  \u001B[1;31merror\u001B[0m: \u001B[1msubprocess-exited-with-error\u001B[0m\r\n",
      "  \r\n",
      "  \u001B[31m×\u001B[0m \u001B[32mpython setup.py bdist_wheel\u001B[0m did not run successfully.\r\n",
      "  \u001B[31m│\u001B[0m exit code: \u001B[1;36m1\u001B[0m\r\n",
      "  \u001B[31m╰─>\u001B[0m \u001B[31m[27 lines of output]\u001B[0m\r\n",
      "  \u001B[31m   \u001B[0m /private/var/folders/r3/cjrd5_157pzdzc2__7r09xxc0000gq/T/pip-install-wcotshuj/scikit-learn_cfc8e0b68b3d4528813e8ca594d23166/setup.py:12: DeprecationWarning: pkg_resources is deprecated as an API. See https://setuptools.pypa.io/en/latest/pkg_resources.html\r\n",
      "  \u001B[31m   \u001B[0m   from pkg_resources import parse_version\r\n",
      "  \u001B[31m   \u001B[0m Partial import of sklearn during the build process.\r\n",
      "  \u001B[31m   \u001B[0m Traceback (most recent call last):\r\n",
      "  \u001B[31m   \u001B[0m   File \"/private/var/folders/r3/cjrd5_157pzdzc2__7r09xxc0000gq/T/pip-install-wcotshuj/scikit-learn_cfc8e0b68b3d4528813e8ca594d23166/setup.py\", line 195, in check_package_status\r\n",
      "  \u001B[31m   \u001B[0m     module = importlib.import_module(package)\r\n",
      "  \u001B[31m   \u001B[0m              ^^^^^^^^^^^^^^^^^^^^^^^^^^^^^^^^\r\n",
      "  \u001B[31m   \u001B[0m   File \"/Library/Frameworks/Python.framework/Versions/3.12/lib/python3.12/importlib/__init__.py\", line 90, in import_module\r\n",
      "  \u001B[31m   \u001B[0m     return _bootstrap._gcd_import(name[level:], package, level)\r\n",
      "  \u001B[31m   \u001B[0m            ^^^^^^^^^^^^^^^^^^^^^^^^^^^^^^^^^^^^^^^^^^^^^^^^^^^^\r\n",
      "  \u001B[31m   \u001B[0m   File \"<frozen importlib._bootstrap>\", line 1387, in _gcd_import\r\n",
      "  \u001B[31m   \u001B[0m   File \"<frozen importlib._bootstrap>\", line 1360, in _find_and_load\r\n",
      "  \u001B[31m   \u001B[0m   File \"<frozen importlib._bootstrap>\", line 1324, in _find_and_load_unlocked\r\n",
      "  \u001B[31m   \u001B[0m ModuleNotFoundError: No module named 'scipy'\r\n",
      "  \u001B[31m   \u001B[0m Traceback (most recent call last):\r\n",
      "  \u001B[31m   \u001B[0m   File \"<string>\", line 2, in <module>\r\n",
      "  \u001B[31m   \u001B[0m   File \"<pip-setuptools-caller>\", line 34, in <module>\r\n",
      "  \u001B[31m   \u001B[0m   File \"/private/var/folders/r3/cjrd5_157pzdzc2__7r09xxc0000gq/T/pip-install-wcotshuj/scikit-learn_cfc8e0b68b3d4528813e8ca594d23166/setup.py\", line 303, in <module>\r\n",
      "  \u001B[31m   \u001B[0m     setup_package()\r\n",
      "  \u001B[31m   \u001B[0m   File \"/private/var/folders/r3/cjrd5_157pzdzc2__7r09xxc0000gq/T/pip-install-wcotshuj/scikit-learn_cfc8e0b68b3d4528813e8ca594d23166/setup.py\", line 293, in setup_package\r\n",
      "  \u001B[31m   \u001B[0m     check_package_status('scipy', SCIPY_MIN_VERSION)\r\n",
      "  \u001B[31m   \u001B[0m   File \"/private/var/folders/r3/cjrd5_157pzdzc2__7r09xxc0000gq/T/pip-install-wcotshuj/scikit-learn_cfc8e0b68b3d4528813e8ca594d23166/setup.py\", line 219, in check_package_status\r\n",
      "  \u001B[31m   \u001B[0m     raise ImportError(\"{} is not \"\r\n",
      "  \u001B[31m   \u001B[0m ImportError: scipy is not installed.\r\n",
      "  \u001B[31m   \u001B[0m scikit-learn requires scipy >= 0.17.0.\r\n",
      "  \u001B[31m   \u001B[0m Installation instructions are available on the scikit-learn website: http://scikit-learn.org/stable/install.html\r\n",
      "  \u001B[31m   \u001B[0m \r\n",
      "  \u001B[31m   \u001B[0m \u001B[31m[end of output]\u001B[0m\r\n",
      "  \r\n",
      "  \u001B[1;35mnote\u001B[0m: This error originates from a subprocess, and is likely not a problem with pip.\r\n",
      "\u001B[31m  ERROR: Failed building wheel for scikit-learn\u001B[0m\u001B[31m\r\n",
      "\u001B[0m\u001B[?25h  Running setup.py clean for scikit-learn\r\n",
      "Failed to build scikit-learn\r\n",
      "\u001B[31mERROR: ERROR: Failed to build installable wheels for some pyproject.toml based projects (scikit-learn)\u001B[0m\u001B[31m\r\n",
      "\u001B[0m"
     ]
    }
   ],
   "source": [
    "!pip install scikit-learn==0.22.1"
   ],
   "metadata": {
    "collapsed": false,
    "ExecuteTime": {
     "end_time": "2024-12-10T03:54:59.942483Z",
     "start_time": "2024-12-10T03:54:56.789553Z"
    }
   },
   "id": "b049cd7479e3ec3f",
   "execution_count": 11
  },
  {
   "cell_type": "code",
   "outputs": [
    {
     "name": "stdout",
     "output_type": "stream",
     "text": [
      "Collecting Cmake\r\n",
      "  Downloading cmake-3.31.1-py3-none-macosx_10_10_universal2.whl.metadata (6.5 kB)\r\n",
      "Downloading cmake-3.31.1-py3-none-macosx_10_10_universal2.whl (47.2 MB)\r\n",
      "\u001B[2K   \u001B[90m━━━━━━━━━━━━━━━━━━━━━━━━━━━━━━━━━━━━━━━━\u001B[0m \u001B[32m47.2/47.2 MB\u001B[0m \u001B[31m1.4 MB/s\u001B[0m eta \u001B[36m0:00:00\u001B[0m00:01\u001B[0m00:01\u001B[0m0m\r\n",
      "\u001B[?25hInstalling collected packages: Cmake\r\n",
      "Successfully installed Cmake-3.31.1\r\n"
     ]
    }
   ],
   "source": [
    "!pip install Cmake"
   ],
   "metadata": {
    "collapsed": false,
    "ExecuteTime": {
     "end_time": "2024-12-10T04:00:15.572062Z",
     "start_time": "2024-12-10T03:59:38.742114Z"
    }
   },
   "id": "ba944e8db9e8d599",
   "execution_count": 12
  },
  {
   "cell_type": "code",
   "outputs": [
    {
     "name": "stdout",
     "output_type": "stream",
     "text": [
      "Collecting scikit-learn\r\n",
      "  Downloading scikit_learn-1.6.0-cp312-cp312-macosx_12_0_arm64.whl.metadata (31 kB)\r\n",
      "Requirement already satisfied: numpy>=1.19.5 in ./.venv/lib/python3.12/site-packages (from scikit-learn) (2.2.0)\r\n",
      "Collecting scipy>=1.6.0 (from scikit-learn)\r\n",
      "  Using cached scipy-1.14.1-cp312-cp312-macosx_14_0_arm64.whl.metadata (60 kB)\r\n",
      "Collecting joblib>=1.2.0 (from scikit-learn)\r\n",
      "  Using cached joblib-1.4.2-py3-none-any.whl.metadata (5.4 kB)\r\n",
      "Collecting threadpoolctl>=3.1.0 (from scikit-learn)\r\n",
      "  Using cached threadpoolctl-3.5.0-py3-none-any.whl.metadata (13 kB)\r\n",
      "Downloading scikit_learn-1.6.0-cp312-cp312-macosx_12_0_arm64.whl (11.2 MB)\r\n",
      "\u001B[2K   \u001B[90m━━━━━━━━━━━━━━━━━━━━━━━━━━━━━━━━━━━━━━━━\u001B[0m \u001B[32m11.2/11.2 MB\u001B[0m \u001B[31m4.6 MB/s\u001B[0m eta \u001B[36m0:00:00\u001B[0ma \u001B[36m0:00:01\u001B[0m\r\n",
      "\u001B[?25hUsing cached joblib-1.4.2-py3-none-any.whl (301 kB)\r\n",
      "Using cached scipy-1.14.1-cp312-cp312-macosx_14_0_arm64.whl (23.1 MB)\r\n",
      "Using cached threadpoolctl-3.5.0-py3-none-any.whl (18 kB)\r\n",
      "Installing collected packages: threadpoolctl, scipy, joblib, scikit-learn\r\n",
      "Successfully installed joblib-1.4.2 scikit-learn-1.6.0 scipy-1.14.1 threadpoolctl-3.5.0\r\n"
     ]
    }
   ],
   "source": [
    "!pip install -U scikit-learn"
   ],
   "metadata": {
    "collapsed": false,
    "ExecuteTime": {
     "end_time": "2024-12-10T04:01:18.817466Z",
     "start_time": "2024-12-10T04:01:11.890052Z"
    }
   },
   "id": "de495c0d5753aaea",
   "execution_count": 13
  },
  {
   "cell_type": "code",
   "outputs": [],
   "source": [
    "from sklearn.model_selection import train_test_split"
   ],
   "metadata": {
    "collapsed": false,
    "ExecuteTime": {
     "end_time": "2024-12-10T04:02:12.249037Z",
     "start_time": "2024-12-10T04:01:55.845838Z"
    }
   },
   "id": "3ab33a55cb14706e",
   "execution_count": 14
  },
  {
   "cell_type": "code",
   "outputs": [],
   "source": [
    "from sklearn.neighbors import KNeighborsClassifier"
   ],
   "metadata": {
    "collapsed": false
   },
   "id": "18319688b2b65d00"
  },
  {
   "cell_type": "code",
   "outputs": [],
   "source": [
    "import pandas as pd\n",
    "import numpy as np\n",
    "import matplotlib.pyplot as plt"
   ],
   "metadata": {
    "collapsed": false,
    "ExecuteTime": {
     "end_time": "2024-12-10T04:05:45.792268Z",
     "start_time": "2024-12-10T04:05:40.242882Z"
    }
   },
   "id": "91431a670df783b9",
   "execution_count": 19
  },
  {
   "cell_type": "code",
   "outputs": [
    {
     "data": {
      "text/plain": "   age  sex  cp  trestbps  chol  fbs  restecg  thalach  exang  oldpeak  slope  \\\n0   63    1   3       145   233    1        0      150      0      2.3      0   \n1   37    1   2       130   250    0        1      187      0      3.5      0   \n2   41    0   1       130   204    0        0      172      0      1.4      2   \n3   56    1   1       120   236    0        1      178      0      0.8      2   \n4   57    0   0       120   354    0        1      163      1      0.6      2   \n\n   ca  thal  target  \n0   0     1       1  \n1   0     2       1  \n2   0     2       1  \n3   0     2       1  \n4   0     2       1  ",
      "text/html": "<div>\n<style scoped>\n    .dataframe tbody tr th:only-of-type {\n        vertical-align: middle;\n    }\n\n    .dataframe tbody tr th {\n        vertical-align: top;\n    }\n\n    .dataframe thead th {\n        text-align: right;\n    }\n</style>\n<table border=\"1\" class=\"dataframe\">\n  <thead>\n    <tr style=\"text-align: right;\">\n      <th></th>\n      <th>age</th>\n      <th>sex</th>\n      <th>cp</th>\n      <th>trestbps</th>\n      <th>chol</th>\n      <th>fbs</th>\n      <th>restecg</th>\n      <th>thalach</th>\n      <th>exang</th>\n      <th>oldpeak</th>\n      <th>slope</th>\n      <th>ca</th>\n      <th>thal</th>\n      <th>target</th>\n    </tr>\n  </thead>\n  <tbody>\n    <tr>\n      <th>0</th>\n      <td>63</td>\n      <td>1</td>\n      <td>3</td>\n      <td>145</td>\n      <td>233</td>\n      <td>1</td>\n      <td>0</td>\n      <td>150</td>\n      <td>0</td>\n      <td>2.3</td>\n      <td>0</td>\n      <td>0</td>\n      <td>1</td>\n      <td>1</td>\n    </tr>\n    <tr>\n      <th>1</th>\n      <td>37</td>\n      <td>1</td>\n      <td>2</td>\n      <td>130</td>\n      <td>250</td>\n      <td>0</td>\n      <td>1</td>\n      <td>187</td>\n      <td>0</td>\n      <td>3.5</td>\n      <td>0</td>\n      <td>0</td>\n      <td>2</td>\n      <td>1</td>\n    </tr>\n    <tr>\n      <th>2</th>\n      <td>41</td>\n      <td>0</td>\n      <td>1</td>\n      <td>130</td>\n      <td>204</td>\n      <td>0</td>\n      <td>0</td>\n      <td>172</td>\n      <td>0</td>\n      <td>1.4</td>\n      <td>2</td>\n      <td>0</td>\n      <td>2</td>\n      <td>1</td>\n    </tr>\n    <tr>\n      <th>3</th>\n      <td>56</td>\n      <td>1</td>\n      <td>1</td>\n      <td>120</td>\n      <td>236</td>\n      <td>0</td>\n      <td>1</td>\n      <td>178</td>\n      <td>0</td>\n      <td>0.8</td>\n      <td>2</td>\n      <td>0</td>\n      <td>2</td>\n      <td>1</td>\n    </tr>\n    <tr>\n      <th>4</th>\n      <td>57</td>\n      <td>0</td>\n      <td>0</td>\n      <td>120</td>\n      <td>354</td>\n      <td>0</td>\n      <td>1</td>\n      <td>163</td>\n      <td>1</td>\n      <td>0.6</td>\n      <td>2</td>\n      <td>0</td>\n      <td>2</td>\n      <td>1</td>\n    </tr>\n  </tbody>\n</table>\n</div>"
     },
     "execution_count": 20,
     "metadata": {},
     "output_type": "execute_result"
    }
   ],
   "source": [
    "data = pd.read_csv('heart.csv')\n",
    "data.head()"
   ],
   "metadata": {
    "collapsed": false,
    "ExecuteTime": {
     "end_time": "2024-12-10T04:05:51.009425Z",
     "start_time": "2024-12-10T04:05:50.933529Z"
    }
   },
   "id": "5bbbc11768cf10c9",
   "execution_count": 20
  },
  {
   "cell_type": "markdown",
   "source": [
    "    Какой процент пациентов из представленных в данных имеет заболевание сердца ('target' = 1)? Ответ округлите до двух знаков после запятой."
   ],
   "metadata": {
    "collapsed": false
   },
   "id": "869298fe9ef87b4a"
  },
  {
   "cell_type": "code",
   "outputs": [
    {
     "name": "stdout",
     "output_type": "stream",
     "text": [
      "Процент пациентов с заболеванием сердца: 54.46%\n"
     ]
    }
   ],
   "source": [
    "target_percentage = (data['target'].mean() * 100).round(2)\n",
    "print(f\"Процент пациентов с заболеванием сердца: {target_percentage}%\")"
   ],
   "metadata": {
    "collapsed": false,
    "ExecuteTime": {
     "end_time": "2024-12-10T04:19:54.734327Z",
     "start_time": "2024-12-10T04:19:54.731860Z"
    }
   },
   "id": "dbbc858ab4157913",
   "execution_count": 27
  },
  {
   "cell_type": "markdown",
   "source": [
    "2"
   ],
   "metadata": {
    "collapsed": false
   },
   "id": "22322b5c001ced02"
  },
  {
   "cell_type": "code",
   "outputs": [
    {
     "name": "stdout",
     "output_type": "stream",
     "text": [
      "Свободный коэффициент: 0.04\n"
     ]
    }
   ],
   "source": [
    "from sklearn.linear_model import SGDClassifier\n",
    "from sklearn.model_selection import train_test_split\n",
    "from sklearn.preprocessing import StandardScaler\n",
    "import pandas as pd\n",
    "\n",
    "file_path = 'heart.csv'\n",
    "data = pd.read_csv(file_path)\n",
    "\n",
    "X = data.drop(columns=['target'])\n",
    "y = data['target']\n",
    "\n",
    "scaler = StandardScaler()\n",
    "X_scaled = scaler.fit_transform(X)\n",
    "\n",
    "X_train, X_test, y_train, y_test = train_test_split(X_scaled, y, test_size=0.2, random_state=13)\n",
    "\n",
    "clf = SGDClassifier(\n",
    "    max_iter=1000,\n",
    "    learning_rate='constant',\n",
    "    eta0=0.1,\n",
    "    random_state=13,\n",
    "    alpha=0,\n",
    "    loss='log_loss' \n",
    ")\n",
    "clf.fit(X_train, y_train)\n",
    "\n",
    "intercept = clf.intercept_[0].round(2)\n",
    "\n",
    "print(f\"Свободный коэффициент: {intercept}\")"
   ],
   "metadata": {
    "collapsed": false,
    "ExecuteTime": {
     "end_time": "2024-12-10T04:25:23.718661Z",
     "start_time": "2024-12-10T04:25:23.708327Z"
    }
   },
   "id": "fd58b09ca9fa1941",
   "execution_count": 29
  },
  {
   "cell_type": "markdown",
   "source": [
    "    Какое значение L2-нормы вектора весов (без учета свободного коэффициента) у полученного линейного классификатора? Ответ округлите до двух знаков после запятой.\n",
    "    Напоминание. L2-норма вектора  𝑣=(𝑣1,…,𝑣𝑛)  - это корень из суммы квадратов его элементов:"
   ],
   "metadata": {
    "collapsed": false
   },
   "id": "5ee83481b1a9a314"
  },
  {
   "cell_type": "code",
   "outputs": [
    {
     "name": "stdout",
     "output_type": "stream",
     "text": [
      "L2-норма вектора весов: 2.17\n"
     ]
    }
   ],
   "source": [
    "weights = clf.coef_[0]\n",
    "\n",
    "l2_norm = np.sqrt(np.sum(weights**2)).round(2)\n",
    "\n",
    "print(f\"L2-норма вектора весов: {l2_norm}\")"
   ],
   "metadata": {
    "collapsed": false,
    "ExecuteTime": {
     "end_time": "2024-12-10T04:28:29.085617Z",
     "start_time": "2024-12-10T04:28:29.077114Z"
    }
   },
   "id": "c371f5814a7987de",
   "execution_count": 30
  },
  {
   "cell_type": "markdown",
   "source": [
    "    Найдите долю правильных ответов классификатора на тестовой части выборки (в процентах). Ответ округлите до двух знаков после запятой. Например, если значение доли правильных ответов будет равно 0.1234, то ответом будет 12.34 - ведь это 12.34%."
   ],
   "metadata": {
    "collapsed": false
   },
   "id": "c668739bf775509a"
  },
  {
   "cell_type": "code",
   "outputs": [
    {
     "name": "stdout",
     "output_type": "stream",
     "text": [
      "Доля правильных ответов на тестовой выборке: 81.97%\n"
     ]
    }
   ],
   "source": [
    "accuracy = clf.score(X_test, y_test) * 100\n",
    "accuracy = round(accuracy, 2)\n",
    "\n",
    "print(f\"Доля правильных ответов на тестовой выборке: {accuracy}%\")"
   ],
   "metadata": {
    "collapsed": false,
    "ExecuteTime": {
     "end_time": "2024-12-10T04:30:03.026359Z",
     "start_time": "2024-12-10T04:30:03.019950Z"
    }
   },
   "id": "a7fa548ddb1ea26e",
   "execution_count": 31
  },
  {
   "cell_type": "markdown",
   "source": [
    "    В задаче классификации, как и в задаче регрессии, для оптимизации линейных моделей можно применять регуляризацию. Этот метод реализован и в sklearn.linear_model.SGDClassifier - параметр регуляризации обозначается параметром alpha. За тип регуляризации (L1, L2 или обе сразу) отвечает параметр penalty.\n",
    "        \n",
    "    Обучите классификатор заново с параметром регуляризации alpha=0.1 и типом регуляризации penalty='l1'. Оставьте максимальное число итераций, равное max_iter=1000 и сид random_state=13. Также вместо постоянного значения шага градиентного спуска используйте оптимальное (learning_rate='optimal'), которое, кстати, зависит от alpha (о том, как именно он вычисляется и какие еще параметры можно выбрать, можно подробнее прочитать в документации). В данном случае значение начального шага градиентного спуска eta0 никак не участвует в обучении.\n",
    "        \n",
    "    Отличается ли качество полученного классификатора от качества первого? Какая доля правильных ответов получается теперь на тестовой выборке? Выразите ее в процентах, ответ округлите до двух знаков после запятой. Например, если значение доли правильных ответов будет равно 0.1234, то ответом будет 12.34 - ведь это 12.34%."
   ],
   "metadata": {
    "collapsed": false
   },
   "id": "c2042e73d2dea482"
  },
  {
   "cell_type": "code",
   "outputs": [
    {
     "name": "stdout",
     "output_type": "stream",
     "text": [
      "Доля правильных ответов на тестовой выборке с регуляризацией L1: 81.97%\n"
     ]
    }
   ],
   "source": [
    "from sklearn.linear_model import SGDClassifier\n",
    "\n",
    "clf_l1 = SGDClassifier(\n",
    "    max_iter=1000,\n",
    "    learning_rate='optimal',\n",
    "    random_state=13,\n",
    "    alpha=0.1,\n",
    "    penalty='l1',\n",
    "    loss='log_loss'\n",
    ")\n",
    "clf_l1.fit(X_train, y_train)\n",
    "\n",
    "accuracy_l1 = clf_l1.score(X_test, y_test) * 100\n",
    "accuracy_l1 = round(accuracy_l1, 2)\n",
    "\n",
    "print(f\"Доля правильных ответов на тестовой выборке с регуляризацией L1: {accuracy_l1}%\")"
   ],
   "metadata": {
    "collapsed": false,
    "ExecuteTime": {
     "end_time": "2024-12-10T04:31:32.709479Z",
     "start_time": "2024-12-10T04:31:32.682114Z"
    }
   },
   "id": "a425f2832ba2999",
   "execution_count": 32
  },
  {
   "cell_type": "markdown",
   "source": [
    "    Найдите L2-норму вектора весов для полученного классификатора (заметьте, как на нее повлияла    регуляризация). Ответ округлите до двух знаков после запятой.\n",
    "    Заметьте, что вектор стал более разреженным, и в нем появились нулевые элементы - это результат действия L1-регуляризации."
   ],
   "metadata": {
    "collapsed": false
   },
   "id": "ac3aa10ddaa26238"
  },
  {
   "cell_type": "code",
   "outputs": [
    {
     "name": "stdout",
     "output_type": "stream",
     "text": [
      "L2-норма вектора весов с L1-регуляризацией: 0.52\n"
     ]
    }
   ],
   "source": [
    "import numpy as np\n",
    "\n",
    "weights_l1 = clf_l1.coef_[0]\n",
    "l2_norm_l1 = np.sqrt(np.sum(weights_l1**2)).round(2)\n",
    "\n",
    "print(f\"L2-норма вектора весов с L1-регуляризацией: {l2_norm_l1}\")"
   ],
   "metadata": {
    "collapsed": false,
    "ExecuteTime": {
     "end_time": "2024-12-10T04:32:23.623951Z",
     "start_time": "2024-12-10T04:32:23.617456Z"
    }
   },
   "id": "25338498b154d7f",
   "execution_count": 33
  },
  {
   "cell_type": "markdown",
   "source": [],
   "metadata": {
    "collapsed": false
   },
   "id": "c62a501ca5b83611"
  },
  {
   "cell_type": "markdown",
   "source": [
    "    Наконец, проверьте, как полученные классификаторы предсказывают не классы, а вероятности классов - так как мы работаем с логистической регрессией, это можно сделать. Посмотрите на вероятности, которые выдает первый классификатор (обученный с постоянным шагом градиентного спуска и без регуляризации) на тестовой части выборки. В этом вам поможет метод predict_proba. Результатом его работы будет список размера  𝑁×2 , где  𝑁  - это число объектов. В каждом столбце списка находятся вероятности соответствующего класса для объектов. Поэтому если вам нужен положительный класс, вас интересует последний столбец.\n",
    "        \n",
    "    Какое получается значение AUC-ROC? Ответ округлите до двух знаков после запятой."
   ],
   "metadata": {
    "collapsed": false
   },
   "id": "ce06f5babba69ab0"
  },
  {
   "cell_type": "code",
   "outputs": [
    {
     "name": "stdout",
     "output_type": "stream",
     "text": [
      "AUC-ROC первого классификатора: 0.91\n"
     ]
    }
   ],
   "source": [
    "from sklearn.metrics import roc_auc_score\n",
    "\n",
    "probabilities_first = clf.predict_proba(X_test)[:, 1]\n",
    "auc_roc_first = roc_auc_score(y_test, probabilities_first)\n",
    "auc_roc_first = round(auc_roc_first, 2)\n",
    "\n",
    "print(f\"AUC-ROC первого классификатора: {auc_roc_first}\")"
   ],
   "metadata": {
    "collapsed": false,
    "ExecuteTime": {
     "end_time": "2024-12-10T04:38:50.881691Z",
     "start_time": "2024-12-10T04:38:50.872781Z"
    }
   },
   "id": "9b49f66161555fd8",
   "execution_count": 34
  },
  {
   "cell_type": "markdown",
   "source": [
    "    Посмотрите на вероятности, которые выдает второй классификатор (обученный с оптимальным шагом градиентного спуска и с регуляризацией) на тестовой части выборки. Что вы наблюдаете - как отличаются эти вероятности от вероятностей первого классификатора?\n",
    "    \n",
    "    Посчитайте значение AUC-ROC второго классификатора. Ответ округлите до двух знаков после запятой."
   ],
   "metadata": {
    "collapsed": false
   },
   "id": "ed61aacefe57dcda"
  },
  {
   "cell_type": "code",
   "outputs": [
    {
     "name": "stdout",
     "output_type": "stream",
     "text": [
      "AUC-ROC второго классификатора: 0.92\n"
     ]
    }
   ],
   "source": [
    "from sklearn.metrics import roc_auc_score\n",
    "\n",
    "probabilities_l1 = clf_l1.predict_proba(X_test)[:, 1]\n",
    "auc_roc_l1 = roc_auc_score(y_test, probabilities_l1)\n",
    "auc_roc_l1 = round(auc_roc_l1, 2)\n",
    "\n",
    "print(f\"AUC-ROC второго классификатора: {auc_roc_l1}\")"
   ],
   "metadata": {
    "collapsed": false,
    "ExecuteTime": {
     "end_time": "2024-12-10T04:39:27.581712Z",
     "start_time": "2024-12-10T04:39:27.572039Z"
    }
   },
   "id": "24703c28214e3cf8",
   "execution_count": 35
  },
  {
   "cell_type": "markdown",
   "source": [
    "    Какой признак является самым важным по мнению лучшей модели (имеет наибольший по модулю коэффициент) для принятия решения?"
   ],
   "metadata": {
    "collapsed": false
   },
   "id": "67a1e17273fb04b9"
  },
  {
   "cell_type": "code",
   "outputs": [
    {
     "name": "stdout",
     "output_type": "stream",
     "text": [
      "Самый важный признак: exang\n"
     ]
    }
   ],
   "source": [
    "import numpy as np\n",
    "\n",
    "weights_best = clf_l1.coef_[0]\n",
    "max_coef_index = np.argmax(np.abs(weights_best))\n",
    "most_important_feature = X.columns[max_coef_index]\n",
    "\n",
    "print(f\"Самый важный признак: {most_important_feature}\")"
   ],
   "metadata": {
    "collapsed": false,
    "ExecuteTime": {
     "end_time": "2024-12-10T04:40:11.839222Z",
     "start_time": "2024-12-10T04:40:11.829183Z"
    }
   },
   "id": "af01c087b43e195f",
   "execution_count": 36
  }
 ],
 "metadata": {
  "kernelspec": {
   "display_name": "Python 3",
   "language": "python",
   "name": "python3"
  },
  "language_info": {
   "codemirror_mode": {
    "name": "ipython",
    "version": 2
   },
   "file_extension": ".py",
   "mimetype": "text/x-python",
   "name": "python",
   "nbconvert_exporter": "python",
   "pygments_lexer": "ipython2",
   "version": "2.7.6"
  }
 },
 "nbformat": 4,
 "nbformat_minor": 5
}
